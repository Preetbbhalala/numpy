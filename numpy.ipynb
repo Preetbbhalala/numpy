{
 "cells": [
  {
   "cell_type": "code",
   "execution_count": 4,
   "id": "974354c8",
   "metadata": {},
   "outputs": [
    {
     "data": {
      "text/plain": [
       "(5,)"
      ]
     },
     "execution_count": 4,
     "metadata": {},
     "output_type": "execute_result"
    }
   ],
   "source": [
    "# Basics about numpy \n",
    "import numpy as np \n",
    "\n",
    "arr1 = np.array([1,2,3,4,5]) # Exactly takes one argument\n",
    "arr1.shape"
   ]
  },
  {
   "cell_type": "code",
   "execution_count": null,
   "id": "e471d8e8",
   "metadata": {},
   "outputs": [
    {
     "data": {
      "text/plain": [
       "(5,)"
      ]
     },
     "execution_count": 5,
     "metadata": {},
     "output_type": "execute_result"
    }
   ],
   "source": [
    "# Checking the shaping of the array \n",
    "\n",
    "arr1.shape\n",
    "arr1\n",
    "\n",
    "# row * column "
   ]
  },
  {
   "cell_type": "code",
   "execution_count": 8,
   "id": "6524419d",
   "metadata": {},
   "outputs": [
    {
     "data": {
      "text/plain": [
       "array([1, 2, 3, 4, 5])"
      ]
     },
     "execution_count": 8,
     "metadata": {},
     "output_type": "execute_result"
    }
   ],
   "source": [
    "# Modifying the shape of the array. \n",
    "\n",
    "arr1.reshape(5,1)\n",
    "arr1\n",
    "\n",
    "# Now 5 rows and 1 column. "
   ]
  },
  {
   "cell_type": "code",
   "execution_count": null,
   "id": "3827a528",
   "metadata": {},
   "outputs": [
    {
     "name": "stdout",
     "output_type": "stream",
     "text": [
      "[[0]\n",
      " [2]\n",
      " [4]\n",
      " [6]\n",
      " [8]]\n"
     ]
    }
   ],
   "source": [
    "import numpy as np\n",
    "a = np.arange(0,10,2).reshape(5, 1)   # Reshaping another method. or Converting 1-D into 2-D\n",
    "print(a)"
   ]
  }
 ],
 "metadata": {
  "kernelspec": {
   "display_name": "Python 3",
   "language": "python",
   "name": "python3"
  },
  "language_info": {
   "codemirror_mode": {
    "name": "ipython",
    "version": 3
   },
   "file_extension": ".py",
   "mimetype": "text/x-python",
   "name": "python",
   "nbconvert_exporter": "python",
   "pygments_lexer": "ipython3",
   "version": "3.12.0"
  }
 },
 "nbformat": 4,
 "nbformat_minor": 5
}
